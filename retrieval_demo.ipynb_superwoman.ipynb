{
 "cells": [
  {
   "cell_type": "markdown",
   "metadata": {},
   "source": [
    "## Homework Week 2\n",
    "Tasks:\n",
    "1. Experiment with Sentence Embeddings\n",
    "\n",
    "    ◦ Load sentence-transformers/all-MiniLM-L6-v2\n",
    "\n",
    "    ◦Encode 5–10 text samples and compare them using cosine similarity\n",
    "\n",
    "    ◦Visualize embeddings using PCA or t-SNE"
   ]
  },
  {
   "cell_type": "code",
   "execution_count": 23,
   "metadata": {},
   "outputs": [],
   "source": [
    "from sentence_transformers import SentenceTransformer\n",
    "from sklearn.metrics.pairwise import cosine_similarity\n",
    "import pandas as pd\n",
    "from sklearn.decomposition import PCA\n",
    "import matplotlib.pyplot as plt\n",
    "import faiss\n",
    "import numpy as np\n"
   ]
  },
  {
   "cell_type": "code",
   "execution_count": 24,
   "metadata": {},
   "outputs": [
    {
     "name": "stdout",
     "output_type": "stream",
     "text": [
      "384\n"
     ]
    },
    {
     "data": {
      "image/png": "[encoded data removed]",
      "text/plain": [
       "<Figure size 800x800 with 1 Axes>"
      ]
     },
     "metadata": {},
     "output_type": "display_data"
    }
   ],
   "source": [
    "\n",
    "# 2. Calculate embeddings(vectors) and dimension\n",
    "def encode_sentences(sentences):\n",
    "    # Encode sentences to get their embeddings\n",
    "    embeddings = model.encode(sentences)\n",
    "    dimension = embeddings.shape[1]\n",
    "    return embeddings, dimension\n",
    "\n",
    "# 2. Compare them using cosine similarity\n",
    "def cosine_similarity(embeddings,sentences):\n",
    "    # Calculate cosine similarity between the embeddings\n",
    "    similarities_matrix  = cosine_similarity(embeddings)\n",
    "    similarities_matrix_df = pd.DataFrame(similarities_matrix, index = sentences, columns = sentences)\n",
    "\n",
    "    return similarities_matrix_df\n",
    "\n",
    " # 3. Visualize the embeddings using PCA or t-SNE\n",
    "def visualize_embeddings(embeddings, sentences,filename='pca_visualization.png'):\n",
    "   \n",
    "    pca = PCA(n_components=2)\n",
    "    reduced_embeddings = pca.fit_transform(embeddings)\n",
    "\n",
    "    plt.figure(figsize=(8, 8))\n",
    "    plt.scatter(reduced_embeddings[:, 0], reduced_embeddings[:, 1])\n",
    "\n",
    "    for i, text in enumerate(sentences):\n",
    "        plt.annotate(f\"{i}\", (reduced_embeddings[i, 0], reduced_embeddings[i, 1]))\n",
    "\n",
    "    plt.title(\"Sentence Embeddings Visualization\")\n",
    "    plt.savefig(filename)\n",
    "\n",
    "\n",
    "#Encode\n",
    "embeddings, dimension = encode_sentences(sentences)\n",
    "print(dimension)\n",
    "#Visualize\n",
    "visualize_embeddings(embeddings, sentences, 'pca_visualization.png')\n"
   ]
  },
  {
   "cell_type": "markdown",
   "metadata": {},
   "source": [
    "### 2. Try out FAISS for Similarity Search\n",
    "◦Store your embedded text chunks in a FAISS index\n",
    "\n",
    "◦Query it with different formulations of the same question and print top-k matching chunks. Describe the difference in performance and a possible explanation for your observations."
   ]
  },
  {
   "cell_type": "code",
   "execution_count": 25,
   "metadata": {},
   "outputs": [],
   "source": [
    "\n",
    "#4 Store your embedded text chunks in a FAISS index\n",
    "def build_faiss_index(embeddings, dimension):\n",
    "    # Create a FAISS index\n",
    "    faiss_index = faiss.IndexFlatL2(dimension)\n",
    "    # Convert embeddings to float32\n",
    "    embedding_matrix = np.array(embeddings).astype('float32')\n",
    "    # Add embeddings to the index\n",
    "    faiss_index.add(embedding_matrix)\n",
    "    return faiss_index\n",
    "\n",
    "faiss_index = build_faiss_index(embeddings, dimension)"
   ]
  },
  {
   "cell_type": "code",
   "execution_count": 26,
   "metadata": {},
   "outputs": [
    {
     "name": "stdout",
     "output_type": "stream",
     "text": [
      "\n",
      "Query 1: Why do people use TikTok?\n",
      "Top 1: So I took a step that would have nauseated an earlier version of myself: I downloaded the TikTok app, while I still could, to find out what all the fuss was about. (distance: 0.6798)\n",
      "Top 2: According to Pew Research, the typical TikTok user never adds information to their account’s “bio” field. (distance: 1.0309)\n",
      "Top 3: I use it pretty much exclusively either to view content that my friends have shared with me, or to look for content to share with my friends and family. (distance: 1.2729)\n",
      "\n",
      "Query 2: What is the main reason users watch TikTok videos?\n",
      "Top 1: So I took a step that would have nauseated an earlier version of myself: I downloaded the TikTok app, while I still could, to find out what all the fuss was about. (distance: 0.9000)\n",
      "Top 2: I use it pretty much exclusively either to view content that my friends have shared with me, or to look for content to share with my friends and family. (distance: 1.1201)\n",
      "Top 3: According to Pew Research, the typical TikTok user never adds information to their account’s “bio” field. (distance: 1.1876)\n",
      "\n",
      "Query 3: What draws users to the TikTok platform?\n",
      "Top 1: So I took a step that would have nauseated an earlier version of myself: I downloaded the TikTok app, while I still could, to find out what all the fuss was about. (distance: 0.6778)\n",
      "Top 2: According to Pew Research, the typical TikTok user never adds information to their account’s “bio” field. (distance: 0.8777)\n",
      "Top 3: I use it pretty much exclusively either to view content that my friends have shared with me, or to look for content to share with my friends and family. (distance: 1.2350)\n",
      "\n",
      "Query 4: What makes people spend time on TikTok?\n",
      "Top 1: So I took a step that would have nauseated an earlier version of myself: I downloaded the TikTok app, while I still could, to find out what all the fuss was about. (distance: 0.7922)\n",
      "Top 2: According to Pew Research, the typical TikTok user never adds information to their account’s “bio” field. (distance: 1.0616)\n",
      "Top 3: I use it pretty much exclusively either to view content that my friends have shared with me, or to look for content to share with my friends and family. (distance: 1.3580)\n"
     ]
    }
   ],
   "source": [
    "def main():\n",
    "        # Load sentence-transformers/all-MiniLM-L6-v2\n",
    "    model = SentenceTransformer('all-MiniLM-L6-v2')\n",
    "\n",
    "    # The sentences to encode\n",
    "    sentences = [\n",
    "        \"Fear of missing out . . . is not a valid argument for trashing what you already have.\",\n",
    "        \"I moved on, happily disconnected from whatever the world’s five billion social-media users were doing with their online lives.\",\n",
    "        \"So I took a step that would have nauseated an earlier version of myself: I downloaded the TikTok app, while I still could, to find out what all the fuss was about.\",\n",
    "        \"I swipe up. A new video begins, showing someone selecting shoes at a store.\",\n",
    "        \"The velocity of the clips and the rawness of their emotion is breathtaking.\",\n",
    "        \"According to Pew Research, the typical TikTok user never adds information to their account’s “bio” field.\",\n",
    "        \"The opposite possibility, that a social post could get you fired, might be more likely.\",\n",
    "        \"I use it pretty much exclusively either to view content that my friends have shared with me, or to look for content to share with my friends and family.\"\n",
    "    ]\n",
    "    # 5. A list of queries\n",
    "    queries = [\n",
    "        \"Why do people use TikTok?\",\n",
    "        \"What is the main reason users watch TikTok videos?\",\n",
    "        \"What draws users to the TikTok platform?\",\n",
    "        \"What makes people spend time on TikTok?\",\n",
    "    ]\n",
    "\n",
    "    query_vectors = model.encode(queries).astype('float32')\n",
    "\n",
    "    top_k = 3\n",
    "    Distance, matched_sentence_indices = faiss_index.search(query_vectors, top_k)\n",
    "\n",
    "    # Print the results\n",
    "\n",
    "    for query_id, question in enumerate(queries):\n",
    "        print(f\"\\nQuery {query_id + 1}: {question}\")\n",
    "        \n",
    "        for rank, sentence_id in enumerate(matched_sentence_indices[query_id]):\n",
    "            matched_sentence = sentences[sentence_id]\n",
    "            score = Distance[query_id][rank]\n",
    "            \n",
    "            print(f\"Top {rank + 1}: {matched_sentence} (distance: {score:.4f})\")\n",
    "\n",
    "if __name__ == '__main__':\n",
    "    main()"
   ]
  }
 ],
 "metadata": {
  "kernelspec": {
   "display_name": "base",
   "language": "python",
   "name": "python3"
  },
  "language_info": {
   "codemirror_mode": {
    "name": "ipython",
    "version": 3
   },
   "file_extension": ".py",
   "mimetype": "text/x-python",
   "name": "python",
   "nbconvert_exporter": "python",
   "pygments_lexer": "ipython3",
   "version": "3.12.7"
  }
 },
 "nbformat": 4,
 "nbformat_minor": 2
}
