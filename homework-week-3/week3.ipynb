{
 "cells": [
  {
   "cell_type": "markdown",
   "metadata": {},
   "source": [
    "## Homework Week 2\n",
    "Tasks:\n",
    "1. Experiment with Sentence Embeddings\n",
    "\n",
    "    ◦ Load sentence-transformers/all-MiniLM-L6-v2\n",
    "\n",
    "    ◦Encode 5–10 text samples and compare them using cosine similarity\n",
    "\n",
    "    ◦Visualize embeddings using PCA or t-SNE"
   ]
  },
  {
   "cell_type": "code",
   "execution_count": 1,
   "metadata": {},
   "outputs": [
    {
     "name": "stderr",
     "output_type": "stream",
     "text": [
      "/opt/anaconda3/envs/nlphomework/lib/python3.10/site-packages/tqdm/auto.py:21: TqdmWarning: IProgress not found. Please update jupyter and ipywidgets. See https://ipywidgets.readthedocs.io/en/stable/user_install.html\n",
      "  from .autonotebook import tqdm as notebook_tqdm\n"
     ]
    }
   ],
   "source": [
    "from sentence_transformers import SentenceTransformer\n",
    "import faiss\n",
    "import numpy as np\n"
   ]
  },
  {
   "cell_type": "code",
   "execution_count": 2,
   "metadata": {},
   "outputs": [
    {
     "ename": "",
     "evalue": "",
     "output_type": "error",
     "traceback": [
      "\u001b[1;31mThe Kernel crashed while executing code in the current cell or a previous cell. \n",
      "\u001b[1;31mPlease review the code in the cell(s) to identify a possible cause of the failure. \n",
      "\u001b[1;31mClick <a href='https://aka.ms/vscodeJupyterKernelCrash'>here</a> for more info. \n",
      "\u001b[1;31mView Jupyter <a href='command:jupyter.viewOutput'>log</a> for further details."
     ]
    }
   ],
   "source": [
    "\n",
    "class retriever:\n",
    "\n",
    "    def __init__(self):\n",
    "        # Load sentence-transformers/all-MiniLM-L6-v2\n",
    "        self.model = SentenceTransformer('all-MiniLM-L6-v2')\n",
    "        self.faiss_index = None\n",
    "\n",
    "    def add_documents(self, path):\n",
    "\n",
    "        with open(path, 'r') as file:\n",
    "            # TODO read contents of file into chunks\n",
    "            # Read the entire content of the file into a string\n",
    "            self.chunks = []\n",
    "            text = file.read()\n",
    "            chunk = [text[i:i+200] for i in range(0, len(text), 200)]\n",
    "            self.chunks.append(chunk)\n",
    "\n",
    "        embeddings = self.model.encode(self.chunks)\n",
    "\n",
    "        if self.faiss_index is None:\n",
    "            dimension = embeddings.shape[1]\n",
    "            self.faiss_index= faiss.IndexFlatL2(dimension)\n",
    "\n",
    "        embedding_matrix = np.array(embeddings).astype('float32')\n",
    "        self.faiss_index.add(embedding_matrix)\n",
    "\n",
    "    def query(self, query):\n",
    "        query_vector = self.model.encode(query).astype('float32')\n",
    "        similarity_score, matched_chunk_index = self.faiss_index.search(query_vector)\n",
    "        return self.chunks[matched_chunk_index[0]]\n",
    "        \n",
    "    def save(self, index_file, docs_file):\n",
    "        faiss.write_index(self.faiss_index, index_file)\n",
    "        with open(docs_file, 'w') as f:\n",
    "            for doc in self.documents:\n",
    "                f.write(doc + '\\n')\n",
    "\n",
    "        \n",
    "    def load(self, index_file, docs_file):\n",
    "        self.faiss_index = faiss.read_index(index_file)\n",
    "        with open(docs_file, 'r') as f:\n",
    "            self.documents = f.readlines()\n",
    "\n",
    "    def load_text_file(path):\n",
    "        with open(path, 'r', encoding='utf-8') as f:\n",
    "            return f.read()\n",
    "\n",
    "\n",
    "myRetriever = retriever()\n",
    "myRetriever.add_documents(\"document1.txt\")\n",
    "myRetriever.query(\"Why do people use TikTok?\")"
   ]
  },
  {
   "cell_type": "markdown",
   "metadata": {},
   "source": [
    "### 2. Try out FAISS for Similarity Search\n",
    "◦Store your embedded text chunks in a FAISS index\n",
    "\n",
    "◦Query it with different formulations of the same question and print top-k matching chunks. Describe the difference in performance and a possible explanation for your observations."
   ]
  },
  {
   "cell_type": "code",
   "execution_count": 18,
   "metadata": {},
   "outputs": [
    {
     "name": "stdout",
     "output_type": "stream",
     "text": [
      "384\n"
     ]
    }
   ],
   "source": [
    "#4 Store your embedded text chunks in a FAISS index\n",
    "dimension = embeddings.shape[1]\n",
    "print(dimension)\n",
    "faiss_index= faiss.IndexFlatL2(dimension)\n",
    "embedding_matrix = np.array(embeddings).astype('float32')\n",
    "faiss_index.add(embedding_matrix)"
   ]
  },
  {
   "cell_type": "code",
   "execution_count": 19,
   "metadata": {},
   "outputs": [
    {
     "name": "stdout",
     "output_type": "stream",
     "text": [
      "\n",
      "Query 1: Why do people use TikTok?\n",
      "Top 1: So I took a step that would have nauseated an earlier version of myself: I downloaded the TikTok app, while I still could, to find out what all the fuss was about. (distance: 0.6798)\n",
      "Top 2: According to Pew Research, the typical TikTok user never adds information to their account’s “bio” field. (distance: 1.0309)\n",
      "Top 3: I use it pretty much exclusively either to view content that my friends have shared with me, or to look for content to share with my friends and family. (distance: 1.2729)\n",
      "\n",
      "Query 2: What is the main reason users watch TikTok videos?\n",
      "Top 1: So I took a step that would have nauseated an earlier version of myself: I downloaded the TikTok app, while I still could, to find out what all the fuss was about. (distance: 0.9000)\n",
      "Top 2: I use it pretty much exclusively either to view content that my friends have shared with me, or to look for content to share with my friends and family. (distance: 1.1201)\n",
      "Top 3: According to Pew Research, the typical TikTok user never adds information to their account’s “bio” field. (distance: 1.1876)\n",
      "\n",
      "Query 3: How do people typically interact with TikTok?\n",
      "Top 1: So I took a step that would have nauseated an earlier version of myself: I downloaded the TikTok app, while I still could, to find out what all the fuss was about. (distance: 0.7083)\n",
      "Top 2: According to Pew Research, the typical TikTok user never adds information to their account’s “bio” field. (distance: 1.0164)\n",
      "Top 3: I use it pretty much exclusively either to view content that my friends have shared with me, or to look for content to share with my friends and family. (distance: 1.3808)\n",
      "\n",
      "Query 4: What are users looking for on TikTok?\n",
      "Top 1: So I took a step that would have nauseated an earlier version of myself: I downloaded the TikTok app, while I still could, to find out what all the fuss was about. (distance: 0.7711)\n",
      "Top 2: According to Pew Research, the typical TikTok user never adds information to their account’s “bio” field. (distance: 1.0283)\n",
      "Top 3: I use it pretty much exclusively either to view content that my friends have shared with me, or to look for content to share with my friends and family. (distance: 1.3341)\n",
      "\n",
      "Query 5: Why do friends send TikToks to each other?\n",
      "Top 1: So I took a step that would have nauseated an earlier version of myself: I downloaded the TikTok app, while I still could, to find out what all the fuss was about. (distance: 1.0429)\n",
      "Top 2: According to Pew Research, the typical TikTok user never adds information to their account’s “bio” field. (distance: 1.2277)\n",
      "Top 3: I use it pretty much exclusively either to view content that my friends have shared with me, or to look for content to share with my friends and family. (distance: 1.4053)\n",
      "\n",
      "Query 6: Is TikTok mostly for content sharing among friends?\n",
      "Top 1: I use it pretty much exclusively either to view content that my friends have shared with me, or to look for content to share with my friends and family. (distance: 0.8351)\n",
      "Top 2: So I took a step that would have nauseated an earlier version of myself: I downloaded the TikTok app, while I still could, to find out what all the fuss was about. (distance: 0.9423)\n",
      "Top 3: According to Pew Research, the typical TikTok user never adds information to their account’s “bio” field. (distance: 1.0859)\n"
     ]
    }
   ],
   "source": [
    "queries = [\n",
    "    \"Why do people use TikTok?\",\n",
    "    \"What is the main reason users watch TikTok videos?\",\n",
    "    \"How do people typically interact with TikTok?\",\n",
    "    \"What are users looking for on TikTok?\",\n",
    "    \"Why do friends send TikToks to each other?\",\n",
    "    \"Is TikTok mostly for content sharing among friends?\",\n",
    "]\n",
    "\n",
    "query_vectors = model.encode(queries).astype('float32')\n",
    "\n",
    "top_k = 3\n",
    "similarity_scores, matched_sentence_indices = faiss_index.search(query_vectors, top_k)\n",
    "\n",
    "for query_id, question in enumerate(queries):\n",
    "    print(f\"\\nQuery {query_id + 1}: {question}\")\n",
    "    \n",
    "    for rank, sentence_id in enumerate(matched_sentence_indices[query_id]):\n",
    "        matched_sentence = sentences[sentence_id]\n",
    "        score = similarity_scores[query_id][rank]\n",
    "        \n",
    "        print(f\"Top {rank + 1}: {matched_sentence} (distance: {score:.4f})\")\n"
   ]
  }
 ],
 "metadata": {
  "kernelspec": {
   "display_name": "nlphomework",
   "language": "python",
   "name": "python3"
  },
  "language_info": {
   "codemirror_mode": {
    "name": "ipython",
    "version": 3
   },
   "file_extension": ".py",
   "mimetype": "text/x-python",
   "name": "python",
   "nbconvert_exporter": "python",
   "pygments_lexer": "ipython3",
   "version": "3.10.16"
  }
 },
 "nbformat": 4,
 "nbformat_minor": 2
}
